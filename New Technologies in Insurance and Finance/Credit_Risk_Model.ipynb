{
  "cells": [
    {
      "cell_type": "code",
      "execution_count": null,
      "metadata": {
        "id": "xomJIRe0CWc4"
      },
      "outputs": [],
      "source": [
        "import numpy as np"
      ]
    },
    {
      "cell_type": "markdown",
      "metadata": {
        "id": "kgeojKBdSDYg"
      },
      "source": [
        "# Question 1"
      ]
    },
    {
      "cell_type": "code",
      "execution_count": null,
      "metadata": {
        "colab": {
          "base_uri": "https://localhost:8080/"
        },
        "id": "Izpr2rb5DFG2",
        "outputId": "ae0da2cf-54d6-4a9c-ee7a-bec948e56a65"
      },
      "outputs": [
        {
          "data": {
            "text/plain": [
              "array([48.97453624,  7.98313358,  0.101875  ])"
            ]
          },
          "execution_count": 2,
          "metadata": {},
          "output_type": "execute_result"
        }
      ],
      "source": [
        "# Q1: set  j & k\n",
        "j = 24000\n",
        "k = 6000\n",
        "num_samples = j+k\n",
        "\n",
        "# draw random numbers for every feature\n",
        "x_1 = np.random.uniform(low=18., high=80., size=(num_samples, 1))               #age\n",
        "x_2 = np.random.uniform(low=1., high=15., size=(num_samples, 1))                #income (thousands)\n",
        "x_3 = np.float32(np.random.uniform(low=0., high=1., size=(num_samples, 1)) < .1)#self-employed or employed\n",
        "\n",
        "X = np.concatenate([x_1, x_2, x_3], axis=1)\n",
        "\n",
        "# Q1: Compute the empirical means of of each feature\n",
        "x_J = X[:j, :]\n",
        "mean_x_J = np.mean(x_J, axis=0)\n",
        "mean_x_J"
      ]
    },
    {
      "cell_type": "markdown",
      "metadata": {
        "id": "VkRoECyGFmG2"
      },
      "source": [
        "**Credit History:** Credit history includes a person's track record with loans, credit card payments, and other forms of credit. This history shows how reliably a person has managed their financial obligations. A strong credit history, marked by timely payments and responsible credit management, suggests a lower risk for lenders, as it indicates the borrower is likely to continue this pattern. On the other hand, a poor credit history, with instances of late payments or defaults, points to a higher risk.\n",
        "\n",
        "**Debt-to-Income Ratio:** This ratio compares a person's total monthly debt payments to their gross monthly income. A high debt-to-income ratio means a significant part of the borrower's income is tied up in debt repayments, which could make it challenging to handle additional debt. Lenders prefer a lower ratio, as it suggests that the borrower has more financial breathing room to accommodate new loan payments."
      ]
    },
    {
      "cell_type": "markdown",
      "metadata": {
        "id": "AS7ArGFCSgCP"
      },
      "source": [
        "# Question 2"
      ]
    },
    {
      "cell_type": "markdown",
      "metadata": {
        "id": "2c30-JolSk4E"
      },
      "source": [
        "## Question 2a)"
      ]
    },
    {
      "cell_type": "code",
      "execution_count": null,
      "metadata": {
        "colab": {
          "base_uri": "https://localhost:8080/"
        },
        "id": "Zak2rI7nH2oY",
        "outputId": "80bea0b7-3098-4c5a-a275-9a8aed9644dd"
      },
      "outputs": [
        {
          "name": "stdout",
          "output_type": "stream",
          "text": [
            "Non-linear model: default rate 5.08%\n"
          ]
        },
        {
          "data": {
            "text/plain": [
              "(-1, -2, 0.25, 4)"
            ]
          },
          "execution_count": 3,
          "metadata": {},
          "output_type": "execute_result"
        }
      ],
      "source": [
        "# a)\n",
        "\n",
        "sigmoid = lambda x: 1. / (1. + np.exp(-x))\n",
        "\n",
        "# set parameters a_0, a_1, a_2, a_3\n",
        "# non-linear model\n",
        "a_0 = -1\n",
        "a_1 = -2\n",
        "a_2 = 0.25\n",
        "a_3 = 4\n",
        "\n",
        "p = sigmoid(a_0 + a_1 * np.abs(x_1 - 50) + a_2 * np.power(x_2, 1.25) + a_3 * x_3)\n",
        "y = np.float32(np.squeeze(np.random.uniform(size=(num_samples, 1)) < p))\n",
        "print(\"Non-linear model: default rate {:.2f}%\".format(np.mean(p) * 100.))\n",
        "a_0, a_1, a_2, a_3"
      ]
    },
    {
      "cell_type": "markdown",
      "metadata": {
        "id": "PvwI6IkwS4N-"
      },
      "source": [
        "## Question 2b)"
      ]
    },
    {
      "cell_type": "code",
      "execution_count": null,
      "metadata": {
        "colab": {
          "base_uri": "https://localhost:8080/"
        },
        "id": "59jxcMpiWm8M",
        "outputId": "c9a6672b-e6e6-4789-95b6-aea90202f07f"
      },
      "outputs": [
        {
          "name": "stdout",
          "output_type": "stream",
          "text": [
            "Model coefficients = [[0.00356627 0.14541916 0.97064561]]\n",
            "Model intercept = [-4.55195843]\n"
          ]
        }
      ],
      "source": [
        "# b) learn with logistic regression\n",
        "\n",
        "# fit on the training data with logistic regression\n",
        "from sklearn.linear_model import LogisticRegression\n",
        "\n",
        "# divide dataset into training dataset and test dataset\n",
        "X_train_1 = X[:j, :]\n",
        "X_test_1 = X[j:, :]\n",
        "y_train_1 = y[:j]\n",
        "y_test_1 = y[j:]\n",
        "p_test_1 = p[j:, :]\n",
        "\n",
        "# logistic regression for the non-linear dataset\n",
        "model_LR_1 = LogisticRegression().fit(X_train_1, y_train_1)\n",
        "\n",
        "print(f\"Model coefficients = {model_LR_1.coef_}\")\n",
        "print(f\"Model intercept = {model_LR_1.intercept_}\")\n",
        "\n"
      ]
    },
    {
      "cell_type": "code",
      "execution_count": null,
      "metadata": {
        "colab": {
          "base_uri": "https://localhost:8080/"
        },
        "id": "2iPnuT4VYVY8",
        "outputId": "d1dcd0fd-f275-45d9-c6f0-e7c88eab7959"
      },
      "outputs": [
        {
          "name": "stdout",
          "output_type": "stream",
          "text": [
            "Total deviance for training data = 0.19112072141848319\n",
            "Total deviance for test data = 0.18424288104774975\n"
          ]
        }
      ],
      "source": [
        "# b) Calculate the total deviance of the regression fit for both the training and test data. (logistic regression)\n",
        "\n",
        "from sklearn import metrics\n",
        "import matplotlib.pyplot as plt\n",
        "from sklearn.metrics import roc_auc_score, log_loss\n",
        "\n",
        "#calculate the scores on the mom-linear testset\n",
        "scores_LR_1_train = model_LR_1.predict_proba(X_train_1)\n",
        "scores_LR_1 = model_LR_1.predict_proba(X_test_1)\n",
        "\n",
        "#calculate fpr and tpr\n",
        "fpr_LR_1, tpr_LR_1, thresholds_LR_1 = metrics.roc_curve(y_test_1, scores_LR_1[:, 1], pos_label=1)\n",
        "#calculate auc\n",
        "auc_LR_1 = roc_auc_score(y_test_1, scores_LR_1[:, 1])\n",
        "\n",
        "\n",
        "#calculate total deviance for training and test data.\n",
        "#Note that scores_LR_1_train[:, 1] is the predicted default probability\n",
        "print('Total deviance for training data = ' + str(log_loss(y_train_1, scores_LR_1_train[:, 1])))\n",
        "print('Total deviance for test data = ' + str(log_loss(y_test_1, scores_LR_1[:, 1])))\n"
      ]
    },
    {
      "cell_type": "markdown",
      "metadata": {
        "id": "zUfhTLlTUy_z"
      },
      "source": [
        "## Question 2c)"
      ]
    },
    {
      "cell_type": "code",
      "execution_count": null,
      "metadata": {
        "colab": {
          "base_uri": "https://localhost:8080/"
        },
        "id": "TVum8CJrZ976",
        "outputId": "44c31a77-cfe4-40c8-ca95-c0f174402d41"
      },
      "outputs": [
        {
          "name": "stdout",
          "output_type": "stream",
          "text": [
            "The percentage of predictions within the range of [3%, 4%] that are categorized as '1' is: 2.5606%\n"
          ]
        }
      ],
      "source": [
        "# c) fraction of predictions in the interval [3%, 4%]\n",
        "\n",
        "# predicted probabilities of the test data\n",
        "probability_LR = model_LR_1.predict_proba(X_test_1)[:, 1]\n",
        "\n",
        "# index of probabilities in the interval [3%, 4%]\n",
        "i = (probability_LR >= 0.03) & (probability_LR <= 0.04)\n",
        "\n",
        "# new array with labels from the test data that have predicted probabilites in the interval [3%, 4%]\n",
        "na_actual = y_test_1[i]\n",
        "\n",
        "# fraction of data points where the label is 1 and the probability is in the interval [3%, 4%]\n",
        "fraction_ones = sum(na_actual) / len(na_actual)\n",
        "\n",
        "print(f\"The percentage of predictions within the range of [3%, 4%] that are categorized as '1' is: {fraction_ones*100:.4f}%\")"
      ]
    },
    {
      "cell_type": "markdown",
      "metadata": {
        "id": "VTs5sC9PYEXc"
      },
      "source": [
        "The percentage of predictions within the range of 3% to 4% that are categorized as '1' is"
      ]
    },
    {
      "cell_type": "markdown",
      "metadata": {
        "id": "doXWnOh0VEjh"
      },
      "source": [
        "## Question 2d)"
      ]
    },
    {
      "cell_type": "code",
      "execution_count": null,
      "metadata": {
        "colab": {
          "base_uri": "https://localhost:8080/"
        },
        "id": "nvWAg9A91mu4",
        "outputId": "b62ad22f-6f08-4b46-be57-fff58d3aa6d7"
      },
      "outputs": [
        {
          "name": "stdout",
          "output_type": "stream",
          "text": [
            "Epoch 1/10\n",
            "94/94 [==============================] - 3s 6ms/step - loss: 0.3577\n",
            "Epoch 2/10\n",
            "94/94 [==============================] - 1s 6ms/step - loss: 0.1550\n",
            "Epoch 3/10\n",
            "94/94 [==============================] - 1s 6ms/step - loss: 0.1345\n",
            "Epoch 4/10\n",
            "94/94 [==============================] - 1s 7ms/step - loss: 0.1155\n",
            "Epoch 5/10\n",
            "94/94 [==============================] - 1s 6ms/step - loss: 0.0990\n",
            "Epoch 6/10\n",
            "94/94 [==============================] - 1s 6ms/step - loss: 0.0861\n",
            "Epoch 7/10\n",
            "94/94 [==============================] - 1s 7ms/step - loss: 0.0756\n",
            "Epoch 8/10\n",
            "94/94 [==============================] - 1s 7ms/step - loss: 0.0704\n",
            "Epoch 9/10\n",
            "94/94 [==============================] - 0s 2ms/step - loss: 0.0699\n",
            "Epoch 10/10\n",
            "94/94 [==============================] - 0s 3ms/step - loss: 0.0672\n"
          ]
        },
        {
          "data": {
            "text/plain": [
              "<keras.src.callbacks.History at 0x7b49c26ca800>"
            ]
          },
          "execution_count": 8,
          "metadata": {},
          "output_type": "execute_result"
        }
      ],
      "source": [
        "# d) learn with neural networks\n",
        "\n",
        "import tensorflow as tf\n",
        "from tensorflow import keras\n",
        "\n",
        "#build the nn model with 2 hidden layers\n",
        "model_NN = keras.Sequential(\n",
        "    [\n",
        "     keras.layers.BatchNormalization(),\n",
        "     keras.layers.Dense(32, activation='relu', name=\"hidden_layer_1\"),\n",
        "     keras.layers.Dense(32, activation='relu', name=\"hidden_layer_2\"),\n",
        "     keras.layers.Dense(1, activation='sigmoid', name=\"output_layer\")\n",
        "    ]\n",
        ")\n",
        "\n",
        "#the loss function\n",
        "def total_deviance(y_true, y_pred):\n",
        "    return tf.math.reduce_mean(-y_true * tf.math.log(y_pred) - (1. - y_true) * tf.math.log(1. - y_pred))\n",
        "\n",
        "#pick an optimizer\n",
        "model_NN.compile(\n",
        "    optimizer=keras.optimizers.Adam(learning_rate=0.001),\n",
        "    loss=total_deviance\n",
        ")\n",
        "\n",
        "#shuffle the data during training\n",
        "train_dataset = tf.data.Dataset.from_tensor_slices((X_train_1, np.float32(y_train_1)))\n",
        "train_dataset = train_dataset.shuffle(buffer_size=1024).batch(256)\n",
        "\n",
        "#fit the model\n",
        "model_NN.fit(\n",
        "    train_dataset,\n",
        "    batch_size=256,\n",
        "    epochs=10\n",
        ")\n"
      ]
    },
    {
      "cell_type": "code",
      "execution_count": null,
      "metadata": {
        "colab": {
          "base_uri": "https://localhost:8080/"
        },
        "id": "EgappOzX4bf8",
        "outputId": "2d66db12-6f0c-447e-a2ea-34dac0076666"
      },
      "outputs": [
        {
          "name": "stdout",
          "output_type": "stream",
          "text": [
            "Total deviance for training data = 0.052285157952477485\n",
            "Total deviance for test data = 0.047684977839984106\n"
          ]
        }
      ],
      "source": [
        "# d) Calculate the total deviance of the regression fit for both the training and test data. (neural network)\n",
        "\n",
        "#calculate the scores on the testdata\n",
        "scores_NN_train = model_NN(X_train_1)\n",
        "scores_NN = model_NN(X_test_1)\n",
        "fpr_NN, tpr_NN, thresholds_NN = metrics.roc_curve(y_test_1, scores_NN[:, 0], pos_label=1)\n",
        "auc_NN = roc_auc_score(y_test_1, scores_NN[:, 0])\n",
        "\n",
        "#calculate total deviance for training and test data.\n",
        "#Note that scores_NN[:, 0] is the predicted default probability.\n",
        "print('Total deviance for training data = ' + str(log_loss(y_train_1, scores_NN_train[:, 0])))\n",
        "print('Total deviance for test data = ' + str(log_loss(y_test_1, scores_NN[:, 0])))\n"
      ]
    },
    {
      "cell_type": "markdown",
      "metadata": {
        "id": "NHwarzjAVMkZ"
      },
      "source": [
        "## Question 2e)"
      ]
    },
    {
      "cell_type": "code",
      "execution_count": null,
      "metadata": {
        "colab": {
          "base_uri": "https://localhost:8080/"
        },
        "id": "AAVNPNDztKIn",
        "outputId": "80fd23dd-68df-4105-ff37-16e2bf74011e"
      },
      "outputs": [
        {
          "name": "stdout",
          "output_type": "stream",
          "text": [
            "The percentage of predictions within the range of [3%, 4%] that are categorized as '1' is: 0.0000%\n"
          ]
        }
      ],
      "source": [
        "# e) fraction of predictions in the interval [3%, 4%]\n",
        "\n",
        "# predicted probabilities of the test data\n",
        "probability_NN = model_NN(X_test_1)[:, 0]\n",
        "\n",
        "# index of probabilities in the interval [3%, 4%]\n",
        "ii = (probability_NN >= 0.03) & (probability_NN <= 0.04)\n",
        "\n",
        "# new array with labels from the test data that have predicted probabilitiesilites in the interval [3%, 4%]\n",
        "na_actual_i = y_test_1[ii]\n",
        "\n",
        "# for this subset, determine the fraction where the true label is 1\n",
        "fraction_ones_i = sum(na_actual_i ) / len(na_actual_i )\n",
        "print(f\"The percentage of predictions within the range of [3%, 4%] that are categorized as '1' is: {fraction_ones_i*100:.4f}%\")\n"
      ]
    },
    {
      "cell_type": "markdown",
      "metadata": {
        "id": "nYkBFaw6VY9b"
      },
      "source": [
        "## Question 2f)"
      ]
    },
    {
      "cell_type": "code",
      "execution_count": null,
      "metadata": {
        "colab": {
          "base_uri": "https://localhost:8080/",
          "height": 509
        },
        "id": "3VxJucMOvYIo",
        "outputId": "76d70557-d02f-4b43-a297-325e1514430a"
      },
      "outputs": [
        {
          "data": {
            "text/plain": [
              "<matplotlib.legend.Legend at 0x7b49b83a4af0>"
            ]
          },
          "execution_count": 11,
          "metadata": {},
          "output_type": "execute_result"
        },
        {
          "data": {
            "image/png": "[encoded data removed]",
            "text/plain": [
              "<Figure size 640x480 with 1 Axes>"
            ]
          },
          "metadata": {},
          "output_type": "display_data"
        }
      ],
      "source": [
        "# f) Plot the ROC curve and calculate the AUC\n",
        "\n",
        "plt.plot(fpr_NN, tpr_NN, label='NN non-linear model AUC={:.2f}'.format(auc_NN))\n",
        "plt.plot(fpr_LR_1, tpr_LR_1, label='LR non-linear model AUC={:.2f}'.format(auc_LR_1))\n",
        "plt.plot([0, 1], [0, 1], 'k--')\n",
        "plt.xlabel('False positive rate')\n",
        "plt.ylabel('True positive rate')\n",
        "plt.title('ROC curve (NN vs. LR)')\n",
        "plt.legend(loc='best')"
      ]
    },
    {
      "cell_type": "markdown",
      "metadata": {
        "id": "c7gwhh4K3EXX"
      },
      "source": [
        "When you switch the labels in your target variable (for instance, changing 0s to 1s and 1s to 0s), the interpretation of \"positive\" and \"negative\" cases in your model is reversed. This inversion affects both the TPR and FPR:\n",
        "\n",
        "The TPR (True Positive Rate) becomes the TNR (True Negative Rate) of the original labeling.\n",
        "The FPR (False Positive Rate) becomes the FNR (False Negative Rate) of the original labeling.\n",
        "As a result, the ROC curve will essentially be mirrored with respect to the diagonal, which can lead to a different AUC value. However, the AUC value under the new labeling will be complementary to the original AUC, adding up to 1. If the original AUC was 0.8, after switching the labels, the new AUC will be 0.2.\n",
        "\n",
        "This change doesn't affect the discriminatory power of the model; it just changes the interpretation of the ROC curve and the AUC value based on the new labeling convention."
      ]
    },
    {
      "cell_type": "markdown",
      "metadata": {
        "id": "BRWJzoQLVelU"
      },
      "source": [
        "# Question 3"
      ]
    },
    {
      "cell_type": "markdown",
      "metadata": {
        "id": "vG0GAVWYVlns"
      },
      "source": [
        "## Question 3a) & 3b)"
      ]
    },
    {
      "cell_type": "code",
      "execution_count": null,
      "metadata": {
        "colab": {
          "base_uri": "https://localhost:8080/",
          "height": 484
        },
        "id": "CFUDeZRNMnUG",
        "outputId": "eb462894-79c3-4703-b06e-654f09b26bad"
      },
      "outputs": [
        {
          "name": "stdout",
          "output_type": "stream",
          "text": [
            "Expected P&L if everybody (6000 people) gets a loan: -101420.98\n",
            "95% VaR of the P&L if everybody (6000 people) gets a loan: 116025.00\n"
          ]
        },
        {
          "data": {
            "image/png": "[encoded data removed]",
            "text/plain": [
              "<Figure size 640x480 with 1 Axes>"
            ]
          },
          "metadata": {},
          "output_type": "display_data"
        }
      ],
      "source": [
        "# a) & b) Estimate P&L and 95%-VaR for different scenarios\n",
        "\n",
        "from scipy.stats import norm\n",
        "import matplotlib as mpl\n",
        "\n",
        "portfolio_size = 6000\n",
        "loan_amount = 1000\n",
        "rate = 0.035\n",
        "\n",
        "#simulate the defaults on the loan portfolio\n",
        "defaults = np.float32(np.random.uniform(low=0., high=1., size=(portfolio_size, 50000)) < p_test_1[:portfolio_size, :])\n",
        "\n",
        "\n",
        "#p&l for scenario 1 => everybody gets a loan\n",
        "p_and_l_a = np.sum(loan_amount * (rate * (1. - defaults) - defaults), axis=0)\n",
        "\n",
        "#histogramm for scenario 1\n",
        "plt.figure(1)\n",
        "plt.hist(p_and_l_a, bins=100)\n",
        "\n",
        "print('Expected P&L if everybody (6000 people) gets a loan: {:.2f}'.format(np.mean(p_and_l_a)))\n",
        "p_and_l_a = np.sort(p_and_l_a)\n",
        "print('95% VaR of the P&L if everybody (6000 people) gets a loan: {:.2f}'.format(-p_and_l_a[2499]))"
      ]
    },
    {
      "cell_type": "code",
      "execution_count": null,
      "metadata": {
        "colab": {
          "base_uri": "https://localhost:8080/",
          "height": 517
        },
        "id": "bb0p5HSAIuBd",
        "outputId": "03f71b05-fbc3-4784-96f6-c256c172bc59"
      },
      "outputs": [
        {
          "name": "stdout",
          "output_type": "stream",
          "text": [
            "Expected P&L if only people with a lower then 5% default probability get a loan (Logistical Regression): 35544.94\n",
            "95% VaR of the P&L if only people with a lower then 5% default probability get a loan (Logistical Regression): -24810.00\n",
            "Expected P&L if only people with a lower then 5% default probability get a loan (Neural Networks): 182129.56\n",
            "95% VaR of the P&L if only people with a lower then 5% default probability get a loan (Logistical Regression): -180665.00\n"
          ]
        },
        {
          "data": {
            "image/png": "[encoded data removed]",
            "text/plain": [
              "<Figure size 640x480 with 1 Axes>"
            ]
          },
          "metadata": {},
          "output_type": "display_data"
        }
      ],
      "source": [
        "#p&l for scenario 2 => Only people with a default probability of below 5% get a loan\n",
        "\n",
        "p_and_l_b_LR = np.sum(loan_amount * (rate * (1. - defaults) - defaults) * np.float32(scores_LR_1[:portfolio_size, 1:2] < 0.05), axis=0)\n",
        "p_and_l_b_NN = np.sum(loan_amount * (rate * (1. - defaults) - defaults) * np.float32(scores_NN[:portfolio_size, :] < 0.05), axis=0)\n",
        "\n",
        "plt.figure(2)\n",
        "plt.hist(p_and_l_a, bins=100, label='Scenario 1')\n",
        "plt.hist(p_and_l_b_LR, bins=100, label='Scenario 2 LR')\n",
        "plt.hist(p_and_l_b_NN, bins=10, label='Scenario 2 NN')\n",
        "plt.legend()\n",
        "\n",
        "\n",
        "print('Expected P&L if only people with a lower then 5% default probability get a loan (Logistical Regression): {:.2f}'.format(np.mean(p_and_l_b_LR)))\n",
        "p_and_l_b_LR = np.sort(p_and_l_b_LR)\n",
        "print('95% VaR of the P&L if only people with a lower then 5% default probability get a loan (Logistical Regression): {:.2f}'.format(-p_and_l_b_LR[2499]))\n",
        "\n",
        "print('Expected P&L if only people with a lower then 5% default probability get a loan (Neural Networks): {:.2f}'.format(np.mean(p_and_l_b_NN)))\n",
        "p_and_l_b_NN = np.sort(p_and_l_b_NN)\n",
        "print('95% VaR of the P&L if only people with a lower then 5% default probability get a loan (Neural Networks): {:.2f}'.format(-p_and_l_b_NN[2499]))\n",
        "\n"
      ]
    }
  ],
  "metadata": {
    "colab": {
      "provenance": [],
      "toc_visible": true
    },
    "kernelspec": {
      "display_name": "Python 3",
      "name": "python3"
    }
  },
  "nbformat": 4,
  "nbformat_minor": 0
}
