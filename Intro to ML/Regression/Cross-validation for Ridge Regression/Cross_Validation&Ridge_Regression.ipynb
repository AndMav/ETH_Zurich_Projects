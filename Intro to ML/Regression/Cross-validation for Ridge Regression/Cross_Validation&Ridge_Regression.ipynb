{
 "cells": [
  {
   "cell_type": "code",
   "execution_count": 1,
   "id": "37270b7e",
   "metadata": {},
   "outputs": [],
   "source": [
    "import pandas as pd\n",
    "import numpy as np\n",
    "from sklearn.model_selection import KFold\n",
    "from sklearn.model_selection import RepeatedKFold\n",
    "from sklearn.linear_model import Ridge"
   ]
  },
  {
   "cell_type": "code",
   "execution_count": 2,
   "id": "018ca12e",
   "metadata": {},
   "outputs": [],
   "source": [
    "def fit(X, y, lam):\n",
    "    \n",
    "    w = np.zeros((13,))    \n",
    "    \n",
    "    ridge_reg = Ridge(alpha=lam, fit_intercept=False)\n",
    "    ridge_reg.fit(X, y)\n",
    "    w = ridge_reg.coef_\n",
    "    \n",
    "    assert w.shape == (13,)     \n",
    "    return w  "
   ]
  },
  {
   "cell_type": "code",
   "execution_count": 3,
   "id": "30665b20",
   "metadata": {},
   "outputs": [],
   "source": [
    "def calculate_RMSE(w, X, y):\n",
    "\n",
    "    RMSE = 0\n",
    "    y_pred = X @ w\n",
    "    RMSE = np.sqrt(np.mean((y-y_pred)**2))\n",
    "    assert np.isscalar(RMSE)      \n",
    "    return RMSE"
   ]
  },
  {
   "cell_type": "code",
   "execution_count": 4,
   "id": "84f3bcb1",
   "metadata": {},
   "outputs": [],
   "source": [
    "def average_LR_RMSE(X, y, lambdas, n_folds):\n",
    "    \n",
    "    RMSE_mat = np.zeros((n_folds, len(lambdas)))\n",
    "    rkf = RepeatedKFold(n_splits=n_folds, n_repeats=1, random_state=12)\n",
    "    fold = 0\n",
    "    for train_index, test_index in rkf.split(X):\n",
    "        X_train, X_test,y_train, y_test = X[train_index], X[test_index], y[train_index], y[test_index]\n",
    "         \n",
    "        for j, lambd in enumerate(lambdas):\n",
    "            w = fit(X_train, y_train, lambd)\n",
    "            RMSE_mat[fold,j] = calculate_RMSE(w, X_test, y_test)\n",
    "        fold+=1     \n",
    "        \n",
    "    avg_RMSE = np.mean(RMSE_mat, axis=0)\n",
    "    \n",
    "    assert avg_RMSE.shape == (5,)\n",
    "    return avg_RMSE"
   ]
  },
  {
   "cell_type": "code",
   "execution_count": 5,
   "id": "1f3b1946",
   "metadata": {},
   "outputs": [
    {
     "name": "stdout",
     "output_type": "stream",
     "text": [
      "         x1   x2     x3   x4     x5     x6     x7      x8    x9    x10   x11  \\\n",
      "0   0.06724  0.0   3.24  0.0  0.460  6.333   17.2  5.2146   4.0  430.0  16.9   \n",
      "1   9.23230  0.0  18.10  0.0  0.631  6.216  100.0  1.1691  24.0  666.0  20.2   \n",
      "2   0.11425  0.0  13.89  1.0  0.550  6.373   92.4  3.3633   5.0  276.0  16.4   \n",
      "3  24.80170  0.0  18.10  0.0  0.693  5.349   96.0  1.7028  24.0  666.0  20.2   \n",
      "4   0.05646  0.0  12.83  0.0  0.437  6.232   53.7  5.0141   5.0  398.0  18.7   \n",
      "\n",
      "      x12    x13  \n",
      "0  375.21   7.34  \n",
      "1  366.15   9.53  \n",
      "2  393.74  10.50  \n",
      "3  396.90  19.77  \n",
      "4  386.40  12.34  \n"
     ]
    }
   ],
   "source": [
    "if __name__ == \"__main__\":\n",
    "    # Data loading\n",
    "    data = pd.read_csv(\"train.csv\")\n",
    "    y = data[\"y\"].to_numpy()\n",
    "    data = data.drop(columns=\"y\")\n",
    "    # print a few data samples\n",
    "    print(data.head())\n",
    "\n",
    "    X = data.to_numpy()\n",
    "    # The function calculating the average RMSE\n",
    "    lambdas = [0.1, 1, 10, 100, 200]\n",
    "    n_folds = 10\n",
    "    avg_RMSE = average_LR_RMSE(X, y, lambdas, n_folds)"
   ]
  },
  {
   "cell_type": "code",
   "execution_count": 6,
   "id": "72148af3",
   "metadata": {},
   "outputs": [],
   "source": [
    "# Save results in the required format\n",
    "np.savetxt(\"./results.csv\", avg_RMSE, fmt=\"%.12f\")"
   ]
  },
  {
   "cell_type": "code",
   "execution_count": 7,
   "id": "fa1ebf1b",
   "metadata": {},
   "outputs": [
    {
     "name": "stdout",
     "output_type": "stream",
     "text": [
      "[5.48923359 5.48090642 5.4559287  5.89876715 6.20359347]\n"
     ]
    }
   ],
   "source": [
    "print(avg_RMSE)"
   ]
  }
 ],
 "metadata": {
  "kernelspec": {
   "display_name": "Python 3 (ipykernel)",
   "language": "python",
   "name": "python3"
  },
  "language_info": {
   "codemirror_mode": {
    "name": "ipython",
    "version": 3
   },
   "file_extension": ".py",
   "mimetype": "text/x-python",
   "name": "python",
   "nbconvert_exporter": "python",
   "pygments_lexer": "ipython3",
   "version": "3.9.16"
  }
 },
 "nbformat": 4,
 "nbformat_minor": 5
}
