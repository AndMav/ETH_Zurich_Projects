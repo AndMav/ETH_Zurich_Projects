{
 "cells": [
  {
   "cell_type": "code",
   "execution_count": 231,
   "metadata": {},
   "outputs": [],
   "source": [
    "from pathlib import Path"
   ]
  },
  {
   "cell_type": "code",
   "execution_count": 232,
   "metadata": {},
   "outputs": [],
   "source": [
    "import numpy as np\n",
    "from tqdm import tqdm\n",
    "import matplotlib.pyplot as plt\n",
    "import torch\n",
    "from torch.utils.data import DataLoader, TensorDataset\n",
    "import torch.nn as nn\n",
    "import torch.nn.functional as F\n",
    "from torch.utils.data import random_split\n",
    "from matplotlib.ticker import MaxNLocator"
   ]
  },
  {
   "cell_type": "markdown",
   "metadata": {},
   "source": [
    "\n",
    "<br>\n",
    "README FIRST<br>\n",
    "The below code is a template for the solution. You can change the code according<br>\n",
    "to your preferences, but the test_model function has to save the output of your <br>\n",
    "model on the test data as it does in this template. This output must be submitted.<br>\n",
    "Replace the dummy code with your own code in the TODO sections.<br>\n",
    "We also encourage you to use tensorboard or wandb to log the training process<br>\n",
    "and the performance of your model. This will help you to debug your model and<br>\n",
    "to understand how it is performing. But the template does not include this<br>\n",
    "functionality.<br>\n",
    "Link for wandb:<br>\n",
    "https://docs.wandb.ai/quickstart/<br>\n",
    "Link for tensorboard: <br>\n",
    "https://pytorch.org/tutorials/recipes/recipes/tensorboard_with_pytorch.html<br>\n"
   ]
  },
  {
   "cell_type": "markdown",
   "metadata": {},
   "source": [
    "The device is automatically set to GPU if available, otherwise CPU<br>\n",
    "If you want to force the device to CPU, you can change the line to<br>\n",
    "device = torch.device(\"cpu\")"
   ]
  },
  {
   "cell_type": "markdown",
   "metadata": {},
   "source": [
    "If you have a Mac consult the following link:<br>\n",
    "https://pytorch.org/docs/stable/notes/mps.html"
   ]
  },
  {
   "cell_type": "markdown",
   "metadata": {},
   "source": [
    "It is important that your model and all data are on the same device."
   ]
  },
  {
   "cell_type": "code",
   "execution_count": 233,
   "metadata": {},
   "outputs": [
    {
     "name": "stdout",
     "output_type": "stream",
     "text": [
      "Using MPS backend\n"
     ]
    }
   ],
   "source": [
    "# MPS on Mac as device\n",
    "if torch.backends.mps.is_available():\n",
    "    device = torch.device(\"mps\")\n",
    "    print(\"Using MPS backend\")\n",
    "else:\n",
    "    device = torch.device(\"cpu\")\n",
    "    print(\"Using CPU backend\")"
   ]
  },
  {
   "cell_type": "code",
   "execution_count": 234,
   "metadata": {},
   "outputs": [],
   "source": [
    "def get_data():\n",
    "    \"\"\"\n",
    "    Get the training and test data. The data files are assumed to be in the\n",
    "    same directory as this script.\n",
    "    Args:\n",
    "    - kwargs: Additional arguments that you might find useful - not necessary\n",
    "    Returns:\n",
    "    - train_data_input: Tensor[N_train_samples, C, H, W]\n",
    "    - train_data_label: Tensor[N_train_samples, C, H, W]\n",
    "    - test_data_input: Tensor[N_test_samples, C, H, W]\n",
    "    where N_train_samples is the number of training samplees, N_test_samples is\n",
    "    the number of test samples, C is the number of channels (1 for grayscale),\n",
    "    H is the height of the image, and W is the width of the image.\n",
    "    \"\"\"\n",
    "    # Load the training data\n",
    "    train_data = np.load(\"train_data.npz\")[\"data\"] # extracts the \"data\" arrray (i.e. images from the file)\n",
    "\n",
    "    # Make the training data a tensor\n",
    "    train_data = train_data / 255 ##normalization\n",
    "    train_data = torch.tensor(train_data, dtype=torch.float32) # Converts the NumPy array to a PyTorch tensor of type float32, required for model training.\n",
    "\n",
    "    # Load the test data\n",
    "    test_data_input = np.load(\"test_data.npz\")[\"data\"]\n",
    "\n",
    "    # Make the test data a tensor\n",
    "    test_data_input = test_data_input / 255 ##normalization\n",
    "    test_data_input = torch.tensor(test_data_input, dtype=torch.float32)\n",
    "\n",
    "    ########################################\n",
    "    # TODO: Given the original training images, create the input images and the\n",
    "    # label images to train your model. \n",
    "    # Replace the two placholder lines below (which currently just copy the\n",
    "    # training data) with your own implementation.\n",
    "\n",
    "    train_data_label = train_data.clone() #A copy/clone of the full, original training images — this is what the model will try to predict.\n",
    "    train_data_input = train_data.clone()\n",
    "    \n",
    "    train_data_input[:, 0, 10:18, 10:18] = 0.0 # application of central masking in all objects of the array/tensor\n",
    "\n",
    "    # Visualize the training data if needed\n",
    "    # Set to False if you don't want to save the images\n",
    "    if True:\n",
    "        # Create the output directory if it doesn't exist\n",
    "        if not Path(\"train_image_output\").exists():\n",
    "            Path(\"train_image_output\").mkdir()\n",
    "        for i in tqdm(range(20), desc=\"Plotting train images\"): # save the first 20 input/label image pairs for visual inspection \n",
    "            # Show the training and the target image side by side\n",
    "            plt.subplot(1, 2, 1)\n",
    "            plt.imshow(train_data_input[i].squeeze(), cmap=\"gray\")\n",
    "            plt.title(\"Training Input\")\n",
    "            plt.subplot(1, 2, 2)\n",
    "            plt.title(\"Training Label\")\n",
    "            plt.imshow(train_data_label[i].squeeze(), cmap=\"gray\")\n",
    "            plt.savefig(f\"train_image_output/image_{i}.png\")\n",
    "            plt.close()\n",
    "    return train_data_input, train_data_label, test_data_input"
   ]
  },
  {
   "cell_type": "code",
   "execution_count": 235,
   "metadata": {},
   "outputs": [],
   "source": [
    "def train_model(train_data_input, train_data_label):\n",
    "    \n",
    "    \"\"\"\n",
    "    Train the model. Fill in the details of the data loader, the loss function,\n",
    "    the optimizer, and the training loop.\n",
    "    Args:\n",
    "    - train_data_input: Tensor[N_train_samples, C, H, W]\n",
    "    - train_data_label: Tensor[N_train_samples, C, H, W]\n",
    "    - kwargs: Additional arguments that you might find useful - not necessary\n",
    "    Returns:\n",
    "    - model: torch.nn.Module\n",
    "    \"\"\"\n",
    "    model = Model()\n",
    "    model.train()\n",
    "    model.to(device)\n",
    "\n",
    "    # TODO: Dummy criterion - change this to the correct loss function\n",
    "    # https://pytorch.org/docs/stable/nn.html#loss-functions\n",
    "    criterion = nn.MSELoss()\n",
    "\n",
    "    # TODO: Dummy optimizer - change this to a more suitable optimizer\n",
    "    optimizer = torch.optim.Adam(model.parameters(), lr=1e-3)\n",
    "\n",
    "    # TODO: Correctly setup the dataloader - the below is just a placeholder\n",
    "    # Also consider that you might not want to use the entire dataset for training alone\n",
    "    # (batch_size needs to be changed)\n",
    "    batch_size = 64\n",
    "    dataset = TensorDataset(train_data_input, train_data_label)\n",
    "    \n",
    "    ## Define split sizes\n",
    "    val_ratio = 0.1  # 10% for validation\n",
    "    val_size = int(len(dataset) * val_ratio)\n",
    "    train_size = len(dataset) - val_size\n",
    "    \n",
    "    \n",
    "    ## Randomly split the dataset\n",
    "    train_dataset, val_dataset = random_split(dataset, [train_size, val_size])\n",
    "    \n",
    "    \n",
    "    #Consider the shuffle parameter and other parameters of the DataLoader class (see https://pytorch.org/docs/stable/data.html#torch.utils.data.DataLoader)\n",
    "    data_loader = DataLoader(dataset, batch_size=batch_size, shuffle=True)\n",
    "    \n",
    "    ## Create DataLoaders\n",
    "    train_loader = DataLoader(train_dataset, batch_size=64, shuffle=True)\n",
    "    val_loader = DataLoader(val_dataset, batch_size=64, shuffle=False)\n",
    "\n",
    "    # Training loop\n",
    "    # TODO: Modify the training loop in case you need to\n",
    "\n",
    "    # TODO: The value of n_epochs is just a placeholder and likely needs to be changed\n",
    "    n_epochs = 20\n",
    "    \n",
    "    train_losses = []\n",
    "    val_losses = []\n",
    "    \n",
    "    for epoch in range(n_epochs):\n",
    "        for x, y in tqdm(\n",
    "            train_loader, desc=f\"Training Epoch {epoch}\", leave=False):\n",
    "            x, y = x.to(device), y.to(device)\n",
    "            optimizer.zero_grad()\n",
    "            output = model(x)\n",
    "            loss = criterion(output[:, :, 10:18, 10:18], y[:, :, 10:18, 10:18])\n",
    "            loss.backward()\n",
    "            optimizer.step()\n",
    "            \n",
    "        train_losses.append(loss.item()) #Append train losses to plot them\n",
    "            \n",
    "        print(f\"Epoch {epoch} Training loss: {loss.item()}\")   \n",
    "        \n",
    "        ##Validation\n",
    "        \n",
    "        model.eval() # puts model in evaluation mode, disables layers like droput or batch normalization updates\n",
    "        with torch.no_grad(): # Disables gradient tracking to recude memory use\n",
    "            for x_val, y_val in val_loader: \n",
    "                x_val, y_val = x_val.to(device), y_val.to(device) #applies mode to validation inputs x_val\n",
    "                val_output = model(x_val) #computes loss between predicted and actual labels\n",
    "                val_loss = criterion(val_output[:, :, 10:18, 10:18], y_val[:, :, 10:18, 10:18])#calculates loss of batch to a running model\n",
    "                \n",
    "        val_losses.append(val_loss.item()) #Append batch loss to plot them        \n",
    "        \n",
    "        print(f\"Epoch {epoch} Validation Loss: {val_loss.item()}\")\n",
    "        \n",
    "        \n",
    "    # After training/validation, plot the batch loss curves\n",
    "    plt.figure(figsize=(10, 6))\n",
    "    plt.plot(train_losses, label=\"Training Loss\", color='b', alpha=0.7)\n",
    "    plt.plot(val_losses, label=\"Validation Loss\", color='orange', alpha=0.7)\n",
    "    plt.xlabel(\"Epoch\")\n",
    "    plt.ylabel(\"Loss\")\n",
    "    plt.legend()\n",
    "    plt.title(\"Training and Validation Losses\")\n",
    "    ax = plt.gca()\n",
    "    ax.xaxis.set_major_locator(MaxNLocator(integer=True))\n",
    "    plt.show()\n",
    "    \n",
    "    return model"
   ]
  },
  {
   "cell_type": "markdown",
   "metadata": {},
   "source": [
    "TODO: define a model. Here, a basic MLP model is defined. You can completely<br>\n",
    "change this model - and are encouraged to do so."
   ]
  },
  {
   "cell_type": "code",
   "execution_count": null,
   "metadata": {},
   "outputs": [],
   "source": [
    "class Model(nn.Module):\n",
    "    def __init__(self):\n",
    "        super(Model, self).__init__()\n",
    "        \n",
    "        # Encoder\n",
    "        self.conv1 = nn.Conv2d(1, 16, 3, padding=1)      # 28x28 -> 28x28\n",
    "        self.conv2 = nn.Conv2d(16, 32, 3, padding=1)     # 28x28 -> 28x28\n",
    "        self.pool = nn.MaxPool2d(2)                      # 28x28 -> 14x14\n",
    "        \n",
    "        # Decoder\n",
    "        self.deconv1 = nn.ConvTranspose2d(32, 16, 2, stride=2)  # 14x14 -> 28x28\n",
    "        self.deconv2 = nn.Conv2d(16, 1, 3, padding=1)           # 28x28 -> 28x28\n",
    "\n",
    "        # Fully connected layers\n",
    "        self.fc1 = nn.Linear(28*28, 256)\n",
    "        self.fc2 = nn.Linear(256, 64)\n",
    "        self.fc3 = nn.Linear(64, 28*28)\n",
    "\n",
    "    def forward(self, x):\n",
    "        # Encoder\n",
    "        x = F.relu(self.conv1(x))\n",
    "        x = F.relu(self.conv2(x))\n",
    "        x = self.pool(x)\n",
    "\n",
    "        # Decoder\n",
    "        x = F.relu(self.deconv1(x))\n",
    "        x = self.deconv2(x)\n",
    "\n",
    "        # Fully connected layers\n",
    "        x = x.view(x.size(0), -1)      # Flatten to vector\n",
    "        x = F.relu(self.fc1(x))\n",
    "        x = F.relu(self.fc2(x))\n",
    "        x = self.fc3(x)\n",
    "        x = x.view(-1, 1, 28, 28)      # Reshape to image\n",
    "        return x\n",
    "\n",
    "#6k model: 3979 with validation\n",
    "#this model without validation: 3936\n"
   ]
  },
  {
   "cell_type": "code",
   "execution_count": 237,
   "metadata": {},
   "outputs": [],
   "source": [
    "def test_model(model, test_data_input):\n",
    "    \"\"\"\n",
    "    Uses your model to predict the ouputs for the test data. Saves the outputs\n",
    "    as a binary file. This file needs to be submitted. This function does not\n",
    "    need to be modified except for setting the batch_size value. If you choose\n",
    "    to modify it otherwise, please ensure that the generating and saving of the\n",
    "    output data is not modified.\n",
    "    Args:\n",
    "    - model: torch.nn.Module\n",
    "    - test_data_input: Tensor\n",
    "    \"\"\"\n",
    "    model.eval()       #sets the model to evaluation mode\n",
    "    model.to(device)   #moves model to appropriate device\n",
    "    with torch.no_grad(): #disables gradient tracking to save memroy and speed up\n",
    "        test_data_input = test_data_input.to(device) #sends test input to device\n",
    "        # Predict the output batch-wise to avoid memory issues\n",
    "        test_data_output = [] #initializes test data output array\n",
    "        # TODO: You can increase or decrease this batch size depending on your\n",
    "        # memory requirements of your computer / model\n",
    "        # This will not affect the performance of the model and your score\n",
    "        batch_size = 128\n",
    "        for i in tqdm(range(0, test_data_input.shape[0], batch_size),desc=\"Predicting test output\",): \n",
    "            #iterates through test batches to prevent memroy overload\n",
    "            #creates a sequence of starting indices for each batch.\n",
    "            #tqdm(...) wraps the loop to show a progress bar\n",
    "            output = model(test_data_input[i : i + batch_size]) #This selects a batch of input images: test_data_input[i : i + batch size]. Passes the batch through the trained model to get the predicted outputs\n",
    "            test_data_output.append(output.cpu()) #Appends the model's predictions to the list test_data_output., moves the tensor from GPU to CPU\n",
    "        test_data_output = torch.cat(test_data_output) #his concatenates all the batch tensors in test_data_output into a single tensor.\n",
    "\n",
    "    # Ensure the output has the correct shape\n",
    "    assert test_data_output.shape == test_data_input.shape, (\n",
    "        f\"Expected shape {test_data_input.shape}, but got \"\n",
    "        f\"{test_data_output.shape}.\"\n",
    "        \"Please ensure the output has the correct shape.\"\n",
    "        \"Without the correct shape, the submission cannot be evaluated and \"\n",
    "        \"will hence not be valid.\"\n",
    "    )\n",
    "\n",
    "    # Save the output\n",
    "    test_data_output = test_data_output.numpy()\n",
    "    # Ensure all values are in the range [0, 255]\n",
    "    save_data_clipped = np.clip(test_data_output, 0, 1) \n",
    "    # Convert to uint8\n",
    "    save_data_uint8 = (save_data_clipped * 255).astype(np.uint8) \n",
    "    # Loss is only computed on the masked area - so set the rest to 0 to save space\n",
    "    save_data = np.zeros_like(save_data_uint8)\n",
    "    save_data[:, :, 10:18, 10:18] = save_data_uint8[:, :, 10:18, 10:18]\n",
    "    np.savez_compressed(\n",
    "        \"submit_this_test_data_output.npz\", data=save_data)\n",
    "\n",
    "    # You can plot the output if you want\n",
    "    # Set to False if you don't want to save the images\n",
    "    if True:\n",
    "        # Create the output directory if it doesn't exist\n",
    "        if not Path(\"test_image_output\").exists():\n",
    "            Path(\"test_image_output\").mkdir()\n",
    "        for i in tqdm(range(20), desc=\"Plotting test images\"):\n",
    "            # Show the training and the target image side by side\n",
    "            plt.subplot(1, 2, 1)\n",
    "            plt.title(\"Test Input\")\n",
    "            plt.imshow(test_data_input[i].squeeze().cpu().numpy(), cmap=\"gray\")\n",
    "            plt.subplot(1, 2, 2)\n",
    "            plt.imshow(test_data_output[i].squeeze(), cmap=\"gray\")\n",
    "            plt.title(\"Test Output\")\n",
    "            plt.savefig(f\"test_image_output/image_{i}.png\")\n",
    "            plt.close()"
   ]
  },
  {
   "cell_type": "code",
   "execution_count": 238,
   "metadata": {},
   "outputs": [],
   "source": [
    "def main():\n",
    "    seed = 0\n",
    "    # Reproducibility\n",
    "    torch.manual_seed(seed)\n",
    "    np.random.seed(seed)\n",
    "    torch.backends.cudnn.deterministic = True\n",
    "\n",
    "    # You don't need to change the code below\n",
    "    # Load the data\n",
    "    train_data_input, train_data_label, test_data_input = get_data()\n",
    "    # Train the model\n",
    "    model = train_model(train_data_input, train_data_label)\n",
    "\n",
    "    # Test the model (this also generates the submission file)\n",
    "    # The name of the submission file is submit_this_test_data_output.npz\n",
    "    test_model(model, test_data_input)\n",
    "    return None"
   ]
  },
  {
   "cell_type": "code",
   "execution_count": 239,
   "metadata": {},
   "outputs": [
    {
     "name": "stderr",
     "output_type": "stream",
     "text": [
      "Plotting train images: 100%|██████████| 20/20 [00:01<00:00, 10.52it/s]\n",
      "                                                                    \r"
     ]
    },
    {
     "name": "stdout",
     "output_type": "stream",
     "text": [
      "Epoch 0 Training loss: 0.09015467017889023\n",
      "Epoch 0 Validation Loss: 0.0860852599143982\n"
     ]
    },
    {
     "name": "stderr",
     "output_type": "stream",
     "text": [
      "                                                                    \r"
     ]
    },
    {
     "name": "stdout",
     "output_type": "stream",
     "text": [
      "Epoch 1 Training loss: 0.08986454457044601\n",
      "Epoch 1 Validation Loss: 0.0744357705116272\n"
     ]
    },
    {
     "name": "stderr",
     "output_type": "stream",
     "text": [
      "                                                                    \r"
     ]
    },
    {
     "name": "stdout",
     "output_type": "stream",
     "text": [
      "Epoch 2 Training loss: 0.07054595649242401\n",
      "Epoch 2 Validation Loss: 0.06928500533103943\n"
     ]
    },
    {
     "name": "stderr",
     "output_type": "stream",
     "text": [
      "                                                                    \r"
     ]
    },
    {
     "name": "stdout",
     "output_type": "stream",
     "text": [
      "Epoch 3 Training loss: 0.06314801424741745\n",
      "Epoch 3 Validation Loss: 0.06657007336616516\n"
     ]
    },
    {
     "name": "stderr",
     "output_type": "stream",
     "text": [
      "                                                                    \r"
     ]
    },
    {
     "name": "stdout",
     "output_type": "stream",
     "text": [
      "Epoch 4 Training loss: 0.06529402732849121\n",
      "Epoch 4 Validation Loss: 0.06687091290950775\n"
     ]
    },
    {
     "name": "stderr",
     "output_type": "stream",
     "text": [
      "                                                                   \r"
     ]
    },
    {
     "name": "stdout",
     "output_type": "stream",
     "text": [
      "Epoch 5 Training loss: 0.05919729173183441\n",
      "Epoch 5 Validation Loss: 0.06444121152162552\n"
     ]
    },
    {
     "name": "stderr",
     "output_type": "stream",
     "text": [
      "                                                                   \r"
     ]
    },
    {
     "name": "stdout",
     "output_type": "stream",
     "text": [
      "Epoch 6 Training loss: 0.060437992215156555\n",
      "Epoch 6 Validation Loss: 0.06538791209459305\n"
     ]
    },
    {
     "name": "stderr",
     "output_type": "stream",
     "text": [
      "                                                                    \r"
     ]
    },
    {
     "name": "stdout",
     "output_type": "stream",
     "text": [
      "Epoch 7 Training loss: 0.06299730390310287\n",
      "Epoch 7 Validation Loss: 0.06233646720647812\n"
     ]
    },
    {
     "name": "stderr",
     "output_type": "stream",
     "text": [
      "                                                                    \r"
     ]
    },
    {
     "name": "stdout",
     "output_type": "stream",
     "text": [
      "Epoch 8 Training loss: 0.05454026162624359\n",
      "Epoch 8 Validation Loss: 0.061952173709869385\n"
     ]
    },
    {
     "name": "stderr",
     "output_type": "stream",
     "text": [
      "                                                                    \r"
     ]
    },
    {
     "name": "stdout",
     "output_type": "stream",
     "text": [
      "Epoch 9 Training loss: 0.06099053844809532\n",
      "Epoch 9 Validation Loss: 0.06004425138235092\n"
     ]
    },
    {
     "name": "stderr",
     "output_type": "stream",
     "text": [
      "                                                                    \r"
     ]
    },
    {
     "name": "stdout",
     "output_type": "stream",
     "text": [
      "Epoch 10 Training loss: 0.05540097504854202\n",
      "Epoch 10 Validation Loss: 0.06110402196645737\n"
     ]
    },
    {
     "name": "stderr",
     "output_type": "stream",
     "text": [
      "                                                                    \r"
     ]
    },
    {
     "name": "stdout",
     "output_type": "stream",
     "text": [
      "Epoch 11 Training loss: 0.058037471026182175\n",
      "Epoch 11 Validation Loss: 0.062388189136981964\n"
     ]
    },
    {
     "name": "stderr",
     "output_type": "stream",
     "text": [
      "                                                                    \r"
     ]
    },
    {
     "name": "stdout",
     "output_type": "stream",
     "text": [
      "Epoch 12 Training loss: 0.04863011837005615\n",
      "Epoch 12 Validation Loss: 0.060971252620220184\n"
     ]
    },
    {
     "name": "stderr",
     "output_type": "stream",
     "text": [
      "                                                                    \r"
     ]
    },
    {
     "name": "stdout",
     "output_type": "stream",
     "text": [
      "Epoch 13 Training loss: 0.054319676011800766\n",
      "Epoch 13 Validation Loss: 0.06118202209472656\n"
     ]
    },
    {
     "name": "stderr",
     "output_type": "stream",
     "text": [
      "                                                                     \r"
     ]
    },
    {
     "name": "stdout",
     "output_type": "stream",
     "text": [
      "Epoch 14 Training loss: 0.05580856651067734\n",
      "Epoch 14 Validation Loss: 0.06172795221209526\n"
     ]
    },
    {
     "name": "stderr",
     "output_type": "stream",
     "text": [
      "                                                                     \r"
     ]
    },
    {
     "name": "stdout",
     "output_type": "stream",
     "text": [
      "Epoch 15 Training loss: 0.0498664453625679\n",
      "Epoch 15 Validation Loss: 0.06064195558428764\n"
     ]
    },
    {
     "name": "stderr",
     "output_type": "stream",
     "text": [
      "                                                                     \r"
     ]
    },
    {
     "name": "stdout",
     "output_type": "stream",
     "text": [
      "Epoch 16 Training loss: 0.05597217381000519\n",
      "Epoch 16 Validation Loss: 0.061971068382263184\n"
     ]
    },
    {
     "name": "stderr",
     "output_type": "stream",
     "text": [
      "                                                                    \r"
     ]
    },
    {
     "name": "stdout",
     "output_type": "stream",
     "text": [
      "Epoch 17 Training loss: 0.04826749488711357\n",
      "Epoch 17 Validation Loss: 0.06138884648680687\n"
     ]
    },
    {
     "name": "stderr",
     "output_type": "stream",
     "text": [
      "                                                                    \r"
     ]
    },
    {
     "name": "stdout",
     "output_type": "stream",
     "text": [
      "Epoch 18 Training loss: 0.04936537146568298\n",
      "Epoch 18 Validation Loss: 0.06136995181441307\n"
     ]
    },
    {
     "name": "stderr",
     "output_type": "stream",
     "text": [
      "                                                                    \r"
     ]
    },
    {
     "name": "stdout",
     "output_type": "stream",
     "text": [
      "Epoch 19 Training loss: 0.0498989000916481\n",
      "Epoch 19 Validation Loss: 0.05982816964387894\n"
     ]
    },
    {
     "data": {
      "image/png": "[encoded data removed]",
      "text/plain": [
       "<Figure size 1000x600 with 1 Axes>"
      ]
     },
     "metadata": {},
     "output_type": "display_data"
    },
    {
     "name": "stderr",
     "output_type": "stream",
     "text": [
      "Predicting test output: 100%|██████████| 79/79 [00:00<00:00, 125.27it/s]\n",
      "Plotting test images: 100%|██████████| 20/20 [00:01<00:00, 11.98it/s]\n"
     ]
    }
   ],
   "source": [
    "if __name__ == \"__main__\":\n",
    "    main()"
   ]
  }
 ],
 "metadata": {
  "kernelspec": {
   "display_name": "base",
   "language": "python",
   "name": "python3"
  },
  "language_info": {
   "codemirror_mode": {
    "name": "ipython",
    "version": 3
   },
   "file_extension": ".py",
   "mimetype": "text/x-python",
   "name": "python",
   "nbconvert_exporter": "python",
   "pygments_lexer": "ipython3",
   "version": "3.10.14"
  }
 },
 "nbformat": 4,
 "nbformat_minor": 2
}
